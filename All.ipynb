{
 "cells": [
  {
   "attachments": {},
   "cell_type": "markdown",
   "metadata": {},
   "source": [
    "# AlproPrak Python"
   ]
  },
  {
   "cell_type": "code",
   "execution_count": null,
   "metadata": {},
   "outputs": [],
   "source": [
    "#Program Soal 1 Minggu 8-2\n",
    "#Ali Ahmad Fahrezy\n",
    "#187220142\n",
    "#a : Input a\n",
    "#b : Input b\n",
    "\n",
    "def main():\n",
    "    a = int(input(\"Masukkan nilai a: \"))\n",
    "    b = int(input(\"Masukkan nilai b: \"))\n",
    "    print(\"Output: \" + str(a / b))\n",
    "\n",
    "if __name__ == \"__main__\":\n",
    "    main()"
   ]
  }
 ],
 "metadata": {
  "kernelspec": {
   "display_name": ".venv",
   "language": "python",
   "name": "python3"
  },
  "language_info": {
   "codemirror_mode": {
    "name": "ipython",
    "version": 3
   },
   "file_extension": ".py",
   "mimetype": "text/x-python",
   "name": "python",
   "nbconvert_exporter": "python",
   "pygments_lexer": "ipython3",
   "version": "3.10.6"
  },
  "orig_nbformat": 4
 },
 "nbformat": 4,
 "nbformat_minor": 2
}
