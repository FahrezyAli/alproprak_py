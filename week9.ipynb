{
 "cells": [
  {
   "cell_type": "markdown",
   "metadata": {},
   "source": [
    "Minggu 9-2\\\n",
    "Nama : Ali Ahmad Fahrezy\\\n",
    "NIM  : 187220142"
   ]
  },
  {
   "cell_type": "markdown",
   "metadata": {},
   "source": [
    "Soal 1: \"Warisan\""
   ]
  },
  {
   "cell_type": "code",
   "execution_count": null,
   "metadata": {},
   "outputs": [],
   "source": [
    "# Input x\n",
    "x = float(input(\"Input nilai warisan yang diterima ibu dan satu anak: \"))\n",
    "\n",
    "# Ibu mendapat 1/4 bagian\n",
    "ibu = 1/4\n",
    "\n",
    "# Sisanya adalah 3/4\n",
    "sisa = 1 - ibu\n",
    "\n",
    "# Satu anak mendapatkan 1/3 dari sisa tersebut\n",
    "anak = 1/3*sisa\n",
    "\n",
    "# Kalkulasi warisan\n",
    "warisan = x/(ibu + anak)\n",
    "\n",
    "# Output\n",
    "print(f\"Total warisan: {warisan}\")"
   ]
  },
  {
   "cell_type": "markdown",
   "metadata": {},
   "source": [
    "Soal 2: \"Nilai k dari deret (6, 9, 11, k)\""
   ]
  },
  {
   "cell_type": "code",
   "execution_count": null,
   "metadata": {},
   "outputs": [],
   "source": [
    "# Input n\n",
    "n = int(input(\"Input rerata deret (Harus lebih dari 6): \"))\n",
    "\n",
    "# Menghitung k\n",
    "k = ((6+9+11) - (n*4))*(-1)\n",
    "\n",
    "# Output\n",
    "print(f\"Nilai k adalah: {k}\")"
   ]
  },
  {
   "cell_type": "markdown",
   "metadata": {},
   "source": [
    "Soal 3: \"Penjual Minyak\""
   ]
  },
  {
   "cell_type": "code",
   "execution_count": null,
   "metadata": {},
   "outputs": [],
   "source": [
    "# Input harga  beli\n",
    "b = int(input(\"Input harga beli: \"))\n",
    "\n",
    "# Input persentase pembelian\n",
    "pb = int(input(\"Input persentase pembelian (Harus antara 1-100): \"))\n",
    "\n",
    "# Input nilai keuntungan\n",
    "u = int(input(\"Input keuntungan yang diinginkan: \"))\n",
    "\n",
    "# Menghitung ongkos kirim\n",
    "o = b*pb/100\n",
    "\n",
    "# Menghitung pertambahan harga\n",
    "h = o + u\n",
    "\n",
    "# Menghitung persentase pertambahan harga\n",
    "pj = h/b*100\n",
    "\n",
    "# Output\n",
    "print(f\"Persentase pertambahan harga: {pj} %\")"
   ]
  },
  {
   "cell_type": "markdown",
   "metadata": {},
   "source": [
    "Soal 4: \"Waktu kedatangan bus\""
   ]
  },
  {
   "cell_type": "code",
   "execution_count": null,
   "metadata": {},
   "outputs": [],
   "source": [
    "jo = int(input(\"Input jam keberangkatan: \"))\n",
    "\n",
    "mo = int(input(\"Input menit keberangkatan: \"))\n",
    "\n",
    "v = int(input(\"Input kecepatan bus dalam km/jam: \"))\n",
    "\n",
    "s = int(input(\"Input jarak yang akan ditempuh dalam km: \"))\n",
    "\n",
    "# Menghitung total detik waktu keberangkatan\n",
    "td = (jo*3600)+(mo*60)\n",
    "\n",
    "# Konversi km/jam ke m/s\n",
    "v = v*1000/3600\n",
    "\n",
    "# Konversi jam ke s\n",
    "s = s*1000\n",
    "\n",
    "w = s/v+td+2700\n",
    "\n",
    "ja = int(w/3600)\n",
    "\n",
    "ma = int((w-(3600*ja))/60)\n",
    "\n",
    "# Output\n",
    "print(f\"Anda akan sampai pada pukul: {ja}:{ma}\")"
   ]
  }
 ],
 "metadata": {
  "kernelspec": {
   "display_name": "Python 3",
   "language": "python",
   "name": "python3"
  },
  "language_info": {
   "codemirror_mode": {
    "name": "ipython",
    "version": 3
   },
   "file_extension": ".py",
   "mimetype": "text/x-python",
   "name": "python",
   "nbconvert_exporter": "python",
   "pygments_lexer": "ipython3",
   "version": "3.11.3"
  },
  "orig_nbformat": 4
 },
 "nbformat": 4,
 "nbformat_minor": 2
}
