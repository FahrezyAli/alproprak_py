{
 "cells": [
  {
   "cell_type": "markdown",
   "metadata": {},
   "source": [
    "Minggu 10-2\\\n",
    "Nama : Ali Ahmad Fahrezy\\\n",
    "NIM  : 187220142"
   ]
  },
  {
   "cell_type": "markdown",
   "metadata": {},
   "source": [
    "Soal 1: \"Hubungan Antara 2 Lingkaran\""
   ]
  },
  {
   "cell_type": "code",
   "execution_count": null,
   "metadata": {},
   "outputs": [],
   "source": [
    "import math\n",
    "\n",
    "print(\"Soal Nomor 1 Minggu 10 \\\"Melihat Hubungan Antara 2 Lingkaran\\\"\")\n",
    "\n",
    "x1 = float(input(\"Inputlah nilai sumbu x titik pusat lingkaran pertama: \"))\n",
    "y1 = float(input(\"Inputlah nilai sumbu y titik pusat lingkaran pertama: \"))\n",
    "r1 = float(input(\"Inputlah jari-jari lingkaran pertama: \"))\n",
    "\n",
    "x2 = float(input(\"Inputlah nilai sumbu x titik pusat lingkaran kedua: \"))\n",
    "y2 = float(input(\"Inputlah nilai sumbu y titik pusat lingkaran kedua: \"))\n",
    "r2 = float(input(\"Inputlah jari-jari lingkaran pertama: \"))\n",
    "\n",
    "#Menghitung nilai jarak alas atau jarak antara x1 dan x2\n",
    "a = abs(x1 - x2)\n",
    "\n",
    "#Menghitung nilai tinggi atau jarak antara y1 dan y2\n",
    "t = abs(y1 - y2)\n",
    "\n",
    "#Menghitung jarak antara kedua lingkaran dengan menggunakan teorama pythagoras\n",
    "d = math.sqrt((a * a) + (t * t))\n",
    "\n",
    "#Mengambil nilai jari-jari terbesar antara kedua lingkaran\n",
    "rb = max(r1, r2)\n",
    "\n",
    "#Mengambil nilai jari-jari terkecil antara kedua lingkaran\n",
    "rk = min(r1, r2)\n",
    "\n",
    "#Posisi dasar adalah P1, yaitu sama sekali tidak menyentuh\n",
    "h = \"P1\"\n",
    "\n",
    "#Jika nilai jarak adalah sama dengan penjumlahan kedua jari jari lingkaran, maka terbukti bahwa lingkaran tersebut saling bersinggungan di luar (P2)\n",
    "if d == rb + rk:\n",
    "    h = \"P2\"\n",
    "\n",
    "#Jika nilai jarak adalah sama dengan pengurangan jari jari terbesar dengan yang terkecil, maka terbukti bahwa lingkaran tersebut saling bersinggungan di dalam (P3)\n",
    "if rb - rk < d and d < rb + rk:\n",
    "    h = \"P3\"\n",
    "\n",
    "#Jika nilai pengurangan jari jari terbesar dengan jari jari terkecil adalah lebih kecil dari pada jarak, dan nilai jarak adalah lebih kecil dari pada nilai penjumlahan kedua jari jari, maka terbukti terbentuk arsiran ditengah kedua lingkaran, dimana terdapat dua titik potong antara dua lingkaran (P3)\n",
    "if d == rb - rk:\n",
    "    h = \"P4\"\n",
    "\n",
    "#Jika nilai penjumlahan jarak dan jari jari terkecil adalah lebih kecil dari pada nilai jari jari terbesar, maka terbukti bahwa lingkaran terkecil tersebut berada didalam lingkaran terbesar tanpa bersinggungan (P5)\n",
    "if (d + rk < rb):\n",
    "    h = \"P5\"\n",
    "\n",
    "print(\"Posisi kedua lingkaran tersebut adalah: \" + h)"
   ]
  },
  {
   "cell_type": "markdown",
   "metadata": {},
   "source": [
    "Soal 2: \"Harga Transportasi Online\""
   ]
  },
  {
   "cell_type": "code",
   "execution_count": null,
   "metadata": {},
   "outputs": [],
   "source": [
    "j = int(input(\"Inputlah jarak total perjalanan dalam km: \"))\n",
    "w = int(input(\"Inputlah waktu total perjalanan dalam menit: \"))\n",
    "c = input(\"Input status hujan dengan 'hujan' jika hujan, dan 'cerah' jika cerah: \")\n",
    "\n",
    "#Harga dasar perjalanan adalah 10.000\n",
    "h = 10000\n",
    "\n",
    "#Jika jarak adalah atau lebih dari 3, maka harga akan bertambah 2000 per km tambahan\n",
    "if j > 3:\n",
    "    h = h + ((j - 3) * 2000)\n",
    "\n",
    "#Jika waktu per jarak melebihi 2 menit, maka harga akan bertambah 1000 per menit tambahan\n",
    "if w / j > 2:\n",
    "    h = h + ((w % j) * 1000)\n",
    "\n",
    "#Jika hujan, maka harga akan bertambah 15%\n",
    "if c == \"hujan\":\n",
    "    h = (h + (h * 0.15))\n",
    "\n",
    "print(\"Harga total perjalanan: \" + str(h))"
   ]
  },
  {
   "cell_type": "markdown",
   "metadata": {},
   "source": [
    "Soal 3: \"Hubungan Antara Parabola dan Garis\""
   ]
  },
  {
   "cell_type": "code",
   "execution_count": null,
   "metadata": {},
   "outputs": [],
   "source": [
    "a = int(input(\"Inputlah nilai a: \"))\n",
    "b = int(input(\"Inputlah nilai b: \"))\n",
    "c = int(input(\"Inputlah nilai c: \"))\n",
    "d = int(input(\"Inputlah nilai d: \"))\n",
    "e = int(input(\"Inputlah nilai e: \"))\n",
    "\n",
    "#Menghitung nilai b parabola terhadap garis\n",
    "b2 = b - d\n",
    "\n",
    "#Menghitung nilai c parabola terhadap garis\n",
    "c2 = c - e\n",
    "\n",
    "#Menghitung diskriminan parabola terhadap garis\n",
    "ds = (b2 * b2) - (4 * a * c2)\n",
    "\n",
    "k = \"\"\n",
    "\n",
    "#Jika D < 0, maka parabola dan garis saling lepas\n",
    "if ds < 0:\n",
    "    k = \"Saling Lepas\"\n",
    "else:\n",
    "    #jika D = 0. maka parabola dan garis bersinggungan\n",
    "    if ds == 0:\n",
    "        k = \"Bersinggungan\"\n",
    "    else:\n",
    "        #jika D < 0, maka parabola dan garis berpotongan\n",
    "        k = \"Berpotongan\"\n",
    "\n",
    "#Menghitung posisi x1 dengan rumus abc\n",
    "x1 = ((-b2) - math.sqrt(ds))\n",
    "x1 = x1/2*a\n",
    "\n",
    "#Menghitung posisi x2 dengan rumus abc\n",
    "x2 = ((-b2) + math.sqrt(ds))\n",
    "x2 = x2/2*a\n",
    "\n",
    "#Menghitung posisi y1 dengan memasukkan nilai x1 ke fungsi linear\n",
    "y1 = (d*x1+e)\n",
    "\n",
    "#Menghitung posisi y2 dengan memasukkan nilai x2 ke fungsi linear\n",
    "y2 = (d*x2+e)\n",
    "\n",
    "print(\"Posisi X1 =  \" + str(x1) + \"\\nPosisi Y1 = \" + str(y1) + \"\\nPosisi X2 =  \" + str(x2) + \"\\nPosisi Y2 = \" + str(y2))\n",
    "\n",
    "print(\"Keterangan: \" + k)"
   ]
  },
  {
   "cell_type": "markdown",
   "metadata": {},
   "source": [
    "Soal 4: \"Sudut Antara Jarum Jam dan Jarum Menit\""
   ]
  }
 ],
 "metadata": {
  "kernelspec": {
   "display_name": "Python 3 (ipykernel)",
   "language": "python",
   "name": "python3"
  },
  "language_info": {
   "codemirror_mode": {
    "name": "ipython",
    "version": 3
   },
   "file_extension": ".py",
   "mimetype": "text/x-python",
   "name": "python",
   "nbconvert_exporter": "python",
   "pygments_lexer": "ipython3",
   "version": "3.11.4"
  }
 },
 "nbformat": 4,
 "nbformat_minor": 4
}
