{
 "cells": [
  {
   "cell_type": "markdown",
   "metadata": {},
   "source": [
    "Minggu 8-2\\\n",
    "Nama : Ali Ahmad Fahrezy\\\n",
    "NIM : 187220142"
   ]
  },
  {
   "cell_type": "markdown",
   "metadata": {},
   "source": [
    "Soal 1: \"$a / b$\""
   ]
  },
  {
   "cell_type": "code",
   "execution_count": null,
   "metadata": {},
   "outputs": [],
   "source": [
    "a = int(input(\"Masukkan nilai a: \"))\n",
    "b = int(input(\"Masukkan nilai b: \"))\n",
    "\n",
    "print(f\"{a} / {b} = {a / b}\")"
   ]
  },
  {
   "cell_type": "markdown",
   "metadata": {},
   "source": [
    "Soal 2: \"Luas Segitiga\""
   ]
  },
  {
   "cell_type": "code",
   "execution_count": null,
   "metadata": {},
   "outputs": [],
   "source": [
    "a = int(input(\"Masukkan nilai alas segitiga: \"))\n",
    "t = int(input(\"Masukkan nilai tinggi segitiga: \"))\n",
    "\n",
    "print(f\"Luas Segitiga = {a * t / 2}\")"
   ]
  },
  {
   "cell_type": "markdown",
   "metadata": {},
   "source": [
    "Soal 3: \"$1 / (a - b)$\""
   ]
  },
  {
   "cell_type": "code",
   "execution_count": null,
   "metadata": {},
   "outputs": [],
   "source": [
    "a = int(input(\"Masukkan nilai a: \"))\n",
    "b = int(input(\"Masukkan nilai b: \"))\n",
    "\n",
    "print(f\"1 / ({a} - {b}) = {1 / (a - b)}\")"
   ]
  },
  {
   "cell_type": "markdown",
   "metadata": {},
   "source": [
    "Soal 4: \"$y = 5x^2 + 3x -1$\""
   ]
  },
  {
   "cell_type": "code",
   "execution_count": null,
   "metadata": {},
   "outputs": [],
   "source": [
    "x = int(input(\"Masukkan nilai x: \"))\n",
    "\n",
    "print(f\"y = {str(5 * x * x + 3 * x - 1)}\")"
   ]
  }
 ],
 "metadata": {
  "kernelspec": {
   "display_name": "Python 3 (ipykernel)",
   "language": "python",
   "name": "python3"
  },
  "language_info": {
   "codemirror_mode": {
    "name": "ipython",
    "version": 3
   },
   "file_extension": ".py",
   "mimetype": "text/x-python",
   "name": "python",
   "nbconvert_exporter": "python",
   "pygments_lexer": "ipython3",
   "version": "3.11.4"
  }
 },
 "nbformat": 4,
 "nbformat_minor": 4
}
